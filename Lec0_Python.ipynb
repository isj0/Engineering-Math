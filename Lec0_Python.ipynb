{
 "cells": [
  {
   "cell_type": "code",
   "execution_count": 14,
   "id": "27dacfc6",
   "metadata": {},
   "outputs": [
    {
     "name": "stdout",
     "output_type": "stream",
     "text": [
      "4\n",
      "0\n",
      "4\n",
      "7\n",
      "-12\n",
      "0\n",
      "8\n"
     ]
    }
   ],
   "source": [
    "# Basic Operations & Asignment\n",
    "\n",
    "print(2 + 2)\n",
    "print(2 - 2)\n",
    "print(2 * 2)\n",
    "print(5 + 2)\n",
    "x = 2 - 2 * 7\n",
    "print(x)\n",
    "x = (2 - 2) * 7\n",
    "print(x)\n",
    "print(2 ** 3)\n"
   ]
  },
  {
   "cell_type": "code",
   "execution_count": null,
   "id": "99eb3809",
   "metadata": {},
   "outputs": [
    {
     "name": "stdout",
     "output_type": "stream",
     "text": [
      "range(0, 10)\n"
     ]
    }
   ],
   "source": [
    "# range function\n",
    "\n",
    "k = range(10)\n",
    "print(k)"
   ]
  },
  {
   "cell_type": "code",
   "execution_count": 15,
   "id": "33fb4b00",
   "metadata": {},
   "outputs": [
    {
     "name": "stdout",
     "output_type": "stream",
     "text": [
      "0 1 2 3 4 5 6 7 8 9 "
     ]
    }
   ],
   "source": [
    " # Loops\n",
    "\n",
    "for i in range(10):\n",
    "    print(i, end =' ')"
   ]
  },
  {
   "cell_type": "code",
   "execution_count": 12,
   "id": "04ab3076",
   "metadata": {},
   "outputs": [
    {
     "name": "stdout",
     "output_type": "stream",
     "text": [
      "45\n"
     ]
    }
   ],
   "source": [
    "# Loops - adding numbers 0 - 9\n",
    "\n",
    "count = 0\n",
    "for ii in range(10):\n",
    "    count = ii + count\n",
    "\n",
    "print(count)"
   ]
  },
  {
   "cell_type": "code",
   "execution_count": 13,
   "id": "6c2ee9eb",
   "metadata": {},
   "outputs": [
    {
     "name": "stdout",
     "output_type": "stream",
     "text": [
      "10\n"
     ]
    }
   ],
   "source": [
    "# While Loop\n",
    "\n",
    "counter = count     # count = 45\n",
    "\n",
    "while (counter > 10):\n",
    "    counter = counter - 1\n",
    "print(counter)"
   ]
  },
  {
   "cell_type": "code",
   "execution_count": 17,
   "id": "766f4c38",
   "metadata": {},
   "outputs": [
    {
     "name": "stdout",
     "output_type": "stream",
     "text": [
      "10\n"
     ]
    }
   ],
   "source": [
    "if counter > 17 :\n",
    "    counter = counter - 2\n",
    "print(counter)    "
   ]
  },
  {
   "cell_type": "code",
   "execution_count": null,
   "id": "bd1b6806",
   "metadata": {},
   "outputs": [
    {
     "name": "stdout",
     "output_type": "stream",
     "text": [
      "Hi there\n"
     ]
    }
   ],
   "source": [
    "print(\"Hi there\")\n",
    "name = input(\"What is your name?\")\n",
    "color = input(\"What is your favourite color?\")\n",
    "age = input(\"How old are you?\")\n",
    "print(\"your name is\", name,\"and you're favourite color is\", color,\"you're\", age,\"years old\")\n"
   ]
  },
  {
   "cell_type": "code",
   "execution_count": 1,
   "id": "0fe0c812",
   "metadata": {},
   "outputs": [
    {
     "name": "stdout",
     "output_type": "stream",
     "text": [
      "Hi guys we have a important news\n",
      "\n"
     ]
    }
   ],
   "source": [
    "print(\"Hi guys we have a important news\")\n",
    "news = input(\"What would you like for the important news?\")\n",
    "print(news)\n",
    "           \n",
    "\n"
   ]
  },
  {
   "cell_type": "code",
   "execution_count": 2,
   "id": "a6cfbb8b",
   "metadata": {},
   "outputs": [
    {
     "name": "stdout",
     "output_type": "stream",
     "text": [
      "3\n",
      "3\n"
     ]
    }
   ],
   "source": [
    "# Vectors / Arrays\n",
    "\n",
    "A_Vector = [1, 2, 3, 4]\n",
    "\n",
    "# Access elements of the vector\n",
    "print(A_Vector[2])\n",
    "print(A_Vector[-2])"
   ]
  },
  {
   "cell_type": "code",
   "execution_count": 5,
   "id": "2506e103",
   "metadata": {},
   "outputs": [
    {
     "name": "stdout",
     "output_type": "stream",
     "text": [
      "[1. 1. 1. 1.]\n",
      "[1 2 3 4]\n",
      "[0. 0. 0. 0.]\n",
      "\n",
      "[ 2.09582059 -1.98287919 -0.28398183 -0.38199066 -1.42841681]\n",
      "[[1. 0. 0. 0.]\n",
      " [0. 1. 0. 0.]\n",
      " [0. 0. 1. 0.]\n",
      " [0. 0. 0. 1.]]\n"
     ]
    }
   ],
   "source": [
    "import numpy as np\n",
    "\n",
    "B_Vector = np.ones(4)\n",
    "A_Vector = np.array([1, 2, 3, 4])\n",
    "C_Vector = np.zeros(4)\n",
    "\n",
    "print(B_Vector)\n",
    "print(A_Vector)\n",
    "print(C_Vector)\n",
    "print()\n",
    "\n",
    "X_Vector = np.random.randn(5)\n",
    "Y_Vector = np.eye(4)\n",
    "print(X_Vector)\n",
    "print(Y_Vector)"
   ]
  },
  {
   "cell_type": "code",
   "execution_count": 9,
   "id": "4c13896f",
   "metadata": {},
   "outputs": [
    {
     "name": "stdout",
     "output_type": "stream",
     "text": [
      "[[1 2 3 4]\n",
      " [5 6 7 8]]\n"
     ]
    }
   ],
   "source": [
    "# Create a Matrices\n",
    "\n",
    "A_Matrix = np.array([[1, 2, 3, 4], [5, 6, 7, 8]])\n",
    "print(A_Matrix)"
   ]
  },
  {
   "cell_type": "code",
   "execution_count": 10,
   "id": "911b022b",
   "metadata": {},
   "outputs": [
    {
     "name": "stdout",
     "output_type": "stream",
     "text": [
      "[[[0. 0. 0.]\n",
      "  [0. 0. 0.]\n",
      "  [0. 0. 0.]]\n",
      "\n",
      " [[0. 0. 0.]\n",
      "  [0. 0. 0.]\n",
      "  [0. 0. 0.]]\n",
      "\n",
      " [[0. 0. 0.]\n",
      "  [0. 0. 0.]\n",
      "  [0. 0. 0.]]]\n"
     ]
    }
   ],
   "source": [
    "# Create a Tensor\n",
    "A_Tensor = np.zeros((3, 3, 3))\n",
    "print(A_Tensor)"
   ]
  },
  {
   "cell_type": "code",
   "execution_count": 15,
   "id": "f1996269",
   "metadata": {},
   "outputs": [
    {
     "name": "stdout",
     "output_type": "stream",
     "text": [
      "[30 70]\n",
      "[30 70] (2, 4) (4, 2) (4,)\n"
     ]
    }
   ],
   "source": [
    "# Operations on Vectors/Matrices\n",
    "\n",
    "# Product of matrix vector\n",
    "\n",
    "mat_vec_product = A_Matrix @ A_Vector\n",
    "print(mat_vec_product)\n",
    "\n",
    "# Dimesions of numpy objects\n",
    "print(mat_vec_product, A_Matrix.shape, A_Matrix.T.shape, A_Vector.shape)"
   ]
  },
  {
   "cell_type": "code",
   "execution_count": 16,
   "id": "e8a7204b",
   "metadata": {},
   "outputs": [
    {
     "name": "stdout",
     "output_type": "stream",
     "text": [
      "A =  [[1 2 3 4]\n",
      " [5 6 7 8]]\n",
      "A^2 =  [[ 1  4  9 16]\n",
      " [25 36 49 64]]\n"
     ]
    }
   ],
   "source": [
    "# Square every element in the matrix A\n",
    "element_square = A_Matrix ** 2\n",
    "print('A = ', A_Matrix)\n",
    "print('A^2 = ', element_square)"
   ]
  },
  {
   "cell_type": "code",
   "execution_count": 25,
   "id": "ec579899",
   "metadata": {},
   "outputs": [
    {
     "name": "stdout",
     "output_type": "stream",
     "text": [
      "[-1.   -0.98 -0.96 -0.94 -0.92 -0.9  -0.88 -0.86 -0.84 -0.82 -0.8  -0.78\n",
      " -0.76 -0.74 -0.72 -0.7  -0.68 -0.66 -0.64 -0.62 -0.6  -0.58 -0.56 -0.54\n",
      " -0.52 -0.5  -0.48 -0.46 -0.44 -0.42 -0.4  -0.38 -0.36 -0.34 -0.32 -0.3\n",
      " -0.28 -0.26 -0.24 -0.22 -0.2  -0.18 -0.16 -0.14 -0.12 -0.1  -0.08 -0.06\n",
      " -0.04 -0.02  0.    0.02  0.04  0.06  0.08  0.1   0.12  0.14  0.16  0.18\n",
      "  0.2   0.22  0.24  0.26  0.28  0.3   0.32  0.34  0.36  0.38  0.4   0.42\n",
      "  0.44  0.46  0.48  0.5   0.52  0.54  0.56  0.58  0.6   0.62  0.64  0.66\n",
      "  0.68  0.7   0.72  0.74  0.76  0.78  0.8   0.82  0.84  0.86  0.88  0.9\n",
      "  0.92  0.94  0.96  0.98  1.  ]\n"
     ]
    }
   ],
   "source": [
    "the_time = np.linspace(-1, 1, 101)\n",
    "print(the_time)"
   ]
  },
  {
   "cell_type": "code",
   "execution_count": 27,
   "id": "33b4e9ea",
   "metadata": {},
   "outputs": [],
   "source": [
    "# Create a time function, represented as vectors\n",
    "\n",
    "# numpy.linspace(-100, 100, 200) generates a 200- dimensional\n",
    "# vector by splitting the time interval (-100 100) into a uniform grid.\n",
    "\n",
    "the_time = np.linspace(-100, 100, 200)\n",
    "\n",
    "F1 = (the_time ** 2) * np.sin(the_time)\n",
    "F2 = (the_time ** 2)\n",
    "\n",
    "# print(F1)\n",
    "# print(F2)\n",
    "\n"
   ]
  },
  {
   "cell_type": "code",
   "execution_count": 29,
   "id": "de441e2c",
   "metadata": {},
   "outputs": [],
   "source": [
    "# Plotting\n",
    "from matplotlib import pyplot as plt"
   ]
  },
  {
   "cell_type": "code",
   "execution_count": 31,
   "id": "64ba69d3",
   "metadata": {},
   "outputs": [
    {
     "data": {
      "text/plain": [
       "<function matplotlib.pyplot.show(close=None, block=None)>"
      ]
     },
     "execution_count": 31,
     "metadata": {},
     "output_type": "execute_result"
    },
    {
     "data": {
      "image/png": "[encoded data removed]",
      "text/plain": [
       "<Figure size 640x480 with 1 Axes>"
      ]
     },
     "metadata": {},
     "output_type": "display_data"
    }
   ],
   "source": [
    "plt.figure()\n",
    "plt.plot(the_time, F1, 'g-', linewidth=2)   # Plots F1(t) in red solid line\n",
    "plt.plot(the_time, F2, 'k--', linewidth=2)   # Plots F2(t) in a black dashed line\n",
    "plt.xlabel('Time')      # Adds label time to the x-axis\n",
    "plt.ylabel('Functions') # Adds the label 'Functions ' to th the y-axis\n",
    "plt.legend(['F1', 'F2'])    # Creates a legend with entries 'F1', 'F2'\n",
    "plt.grid(True)      # Turns on Grid lines\n",
    "plt.title('Plots of F1 and F2')     # Gives the plot a title\n",
    "plt.show        # show the plot"
   ]
  },
  {
   "cell_type": "code",
   "execution_count": 32,
   "id": "31dda284",
   "metadata": {},
   "outputs": [
    {
     "name": "stdout",
     "output_type": "stream",
     "text": [
      "Ax = b =  [0. 0.]\n"
     ]
    }
   ],
   "source": [
    "# Linear System Solving 2 equaitions & 2 unknowns\n",
    "# z + 2y = 1\n",
    "# 4z + 5y = 1\n",
    "\n",
    "A = np.array([[1, 2], [4, 5]])\n",
    "b = np.array([1, 1])\n",
    "\n",
    "# Solve Ax = b in the least-square sense\n",
    "x, _, _, _ = np.linalg.lstsq(A, b)\n",
    "print('Ax = b = ', A @ x - b)\n",
    "\n"
   ]
  },
  {
   "cell_type": "code",
   "execution_count": null,
   "id": "3a9f770a",
   "metadata": {},
   "outputs": [],
   "source": []
  }
 ],
 "metadata": {
  "kernelspec": {
   "display_name": "Python 3",
   "language": "python",
   "name": "python3"
  },
  "language_info": {
   "codemirror_mode": {
    "name": "ipython",
    "version": 3
   },
   "file_extension": ".py",
   "mimetype": "text/x-python",
   "name": "python",
   "nbconvert_exporter": "python",
   "pygments_lexer": "ipython3",
   "version": "3.12.1"
  }
 },
 "nbformat": 4,
 "nbformat_minor": 5
}
